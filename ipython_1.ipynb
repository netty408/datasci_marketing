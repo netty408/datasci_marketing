{
 "cells": [
  {
   "cell_type": "code",
   "execution_count": 1,
   "id": "c001d327-da25-443c-b854-293e1860e429",
   "metadata": {},
   "outputs": [],
   "source": [
    "from IPython.display import HTML,YouTubeVideo,IFrame,SVG"
   ]
  },
  {
   "cell_type": "code",
   "execution_count": 3,
   "id": "21552f15-081e-4941-801b-63284f4e88f2",
   "metadata": {},
   "outputs": [
    {
     "data": {
      "text/html": [
       "\n",
       "        <iframe\n",
       "            width=\"800\"\n",
       "            height=\"400\"\n",
       "            src=\"https://matplotlib.org/examples/color/named_colors.html\"\n",
       "            frameborder=\"0\"\n",
       "            allowfullscreen\n",
       "            \n",
       "        ></iframe>\n",
       "        "
      ],
      "text/plain": [
       "<IPython.lib.display.IFrame at 0x110edb610>"
      ]
     },
     "execution_count": 3,
     "metadata": {},
     "output_type": "execute_result"
    }
   ],
   "source": [
    "IFrame(\"https://matplotlib.org/examples/color/named_colors.html\",width=800,height=400)#ใช้แสดงหน้าเว็บ"
   ]
  },
  {
   "cell_type": "markdown",
   "id": "41d44ec3",
   "metadata": {},
   "source": [
    "### Display HTML"
   ]
  },
  {
   "cell_type": "code",
   "execution_count": 2,
   "id": "b3b516be",
   "metadata": {},
   "outputs": [
    {
     "data": {
      "text/html": [
       "\n",
       "<span style=color:red;font-size:150%>hello</span><span style=color:lightgreen;font-size:200%> Python </span>\n"
      ],
      "text/plain": [
       "<IPython.core.display.HTML object>"
      ]
     },
     "execution_count": 2,
     "metadata": {},
     "output_type": "execute_result"
    }
   ],
   "source": [
    "s ='''\n",
    "<span style=color:red;font-size:150%>hello</span><span style=color:lightgreen;font-size:200%> Python </span>\n",
    "'''\n",
    "HTML(s)"
   ]
  },
  {
   "cell_type": "code",
   "execution_count": 3,
   "id": "a9377719",
   "metadata": {},
   "outputs": [
    {
     "data": {
      "text/html": [
       "\n",
       "<img src=\"https://cdn.pixabay.com/photo/2017/08/06/00/44/people-2587179__340.jpg\",width=200,height=200>\n"
      ],
      "text/plain": [
       "<IPython.core.display.HTML object>"
      ]
     },
     "execution_count": 3,
     "metadata": {},
     "output_type": "execute_result"
    }
   ],
   "source": [
    "s='''\n",
    "<img src=\"https://cdn.pixabay.com/photo/2017/08/06/00/44/people-2587179__340.jpg\",width=200,height=200>\n",
    "'''\n",
    "HTML(s)\n"
   ]
  },
  {
   "cell_type": "code",
   "execution_count": 4,
   "id": "15268f51",
   "metadata": {},
   "outputs": [
    {
     "data": {
      "text/html": [
       "\n",
       "<table class=\"table table-hover table-set col-3-center table-set-border-yellow\">\n",
       "                <thead>\n",
       "                <tr>\n",
       "                    <th></th>\n",
       "                    <th><strong>ล่าสุด</strong></th>\n",
       "                    <th><strong>เปลี่ยนแปลง</strong></th>\n",
       "                    <th><strong>มูลค่า<br>(ลบ.)</strong></th>\n",
       "                </tr>\n",
       "                </thead>\n",
       "                <tbody>\n",
       "                \n",
       "                    <tr>\n",
       "                        <td>\n",
       "                            \n",
       "                                <a class=\"blacklink-u\" href=\"https://marketdata.set.or.th/mkt/marketsummary.do?language=th&amp;country=TH\" target=\"_blank\">SET</a>\n",
       "                                \n",
       "                            \n",
       "                        </td>\n",
       "                        \n",
       "                            \n",
       "                            \n",
       "                                \n",
       "                                \n",
       "                                \n",
       "                            \n",
       "                            \n",
       "                        \n",
       "                        <td style=\"text-align: right;\" class=\"set-color-red\"><i class=\"fa fa-caret-down\"></i>\n",
       "                            \n",
       "                                \n",
       "                                1,574.76\n",
       "                                \n",
       "                            \n",
       "                        </td>\n",
       "                        <td style=\"text-align: right;\" class=\"set-color-red\">-14.93</td>\n",
       "                        <td style=\"text-align: right;\">124,460.32</td>\n",
       "                    </tr>\n",
       "                \n",
       "                    <tr>\n",
       "                        <td>\n",
       "                            \n",
       "                                \n",
       "                                <a class=\"blacklink-u\" href=\"https://marketdata.set.or.th/mkt/sectorquotation.do?sector=SET50&amp;language=th&amp;country=TH\" target=\"_blank\">SET50</a>\n",
       "                            \n",
       "                        </td>\n",
       "                        \n",
       "                            \n",
       "                            \n",
       "                                \n",
       "                                \n",
       "                                \n",
       "                            \n",
       "                            \n",
       "                        \n",
       "                        <td style=\"text-align: right;\" class=\"set-color-red\"><i class=\"fa fa-caret-down\"></i>\n",
       "                            \n",
       "                                \n",
       "                                939.87\n",
       "                                \n",
       "                            \n",
       "                        </td>\n",
       "                        <td style=\"text-align: right;\" class=\"set-color-red\">-8.41</td>\n",
       "                        <td style=\"text-align: right;\">80,003.99</td>\n",
       "                    </tr>\n",
       "                \n",
       "                    <tr>\n",
       "                        <td>\n",
       "                            \n",
       "                                \n",
       "                                <a class=\"blacklink-u\" href=\"https://marketdata.set.or.th/mkt/sectorquotation.do?sector=SET100&amp;language=th&amp;country=TH\" target=\"_blank\">SET100</a>\n",
       "                            \n",
       "                        </td>\n",
       "                        \n",
       "                            \n",
       "                            \n",
       "                                \n",
       "                                \n",
       "                                \n",
       "                            \n",
       "                            \n",
       "                        \n",
       "                        <td style=\"text-align: right;\" class=\"set-color-red\"><i class=\"fa fa-caret-down\"></i>\n",
       "                            \n",
       "                                \n",
       "                                2,149.52\n",
       "                                \n",
       "                            \n",
       "                        </td>\n",
       "                        <td style=\"text-align: right;\" class=\"set-color-red\">-20.12</td>\n",
       "                        <td style=\"text-align: right;\">96,415.41</td>\n",
       "                    </tr>\n",
       "                \n",
       "                    <tr>\n",
       "                        <td>\n",
       "                            \n",
       "                                \n",
       "                                <a class=\"blacklink-u\" href=\"https://marketdata.set.or.th/mkt/sectorquotation.do?sector=sSET&amp;language=th&amp;country=TH\" target=\"_blank\">sSET</a>\n",
       "                            \n",
       "                        </td>\n",
       "                        \n",
       "                            \n",
       "                            \n",
       "                                \n",
       "                                \n",
       "                                \n",
       "                            \n",
       "                            \n",
       "                        \n",
       "                        <td style=\"text-align: right;\" class=\"set-color-red\"><i class=\"fa fa-caret-down\"></i>\n",
       "                            \n",
       "                                \n",
       "                                1,021.09\n",
       "                                \n",
       "                            \n",
       "                        </td>\n",
       "                        <td style=\"text-align: right;\" class=\"set-color-red\">-7.99</td>\n",
       "                        <td style=\"text-align: right;\">7,206.44</td>\n",
       "                    </tr>\n",
       "                \n",
       "                    <tr>\n",
       "                        <td>\n",
       "                            \n",
       "                                \n",
       "                                <a class=\"blacklink-u\" href=\"https://marketdata.set.or.th/mkt/sectorquotation.do?sector=SETCLMV&amp;language=th&amp;country=TH\" target=\"_blank\">SETCLMV</a>\n",
       "                            \n",
       "                        </td>\n",
       "                        \n",
       "                            \n",
       "                            \n",
       "                                \n",
       "                                \n",
       "                                \n",
       "                            \n",
       "                            \n",
       "                        \n",
       "                        <td style=\"text-align: right;\" class=\"set-color-red\"><i class=\"fa fa-caret-down\"></i>\n",
       "                            \n",
       "                                \n",
       "                                995.52\n",
       "                                \n",
       "                            \n",
       "                        </td>\n",
       "                        <td style=\"text-align: right;\" class=\"set-color-red\">-12.39</td>\n",
       "                        <td style=\"text-align: right;\">48,998.63</td>\n",
       "                    </tr>\n",
       "                \n",
       "                    <tr>\n",
       "                        <td>\n",
       "                            \n",
       "                                \n",
       "                                <a class=\"blacklink-u\" href=\"https://marketdata.set.or.th/mkt/sectorquotation.do?sector=SETHD&amp;language=th&amp;country=TH\" target=\"_blank\">SETHD</a>\n",
       "                            \n",
       "                        </td>\n",
       "                        \n",
       "                            \n",
       "                            \n",
       "                                \n",
       "                                \n",
       "                                \n",
       "                            \n",
       "                            \n",
       "                        \n",
       "                        <td style=\"text-align: right;\" class=\"set-color-red\"><i class=\"fa fa-caret-down\"></i>\n",
       "                            \n",
       "                                \n",
       "                                1,096.92\n",
       "                                \n",
       "                            \n",
       "                        </td>\n",
       "                        <td style=\"text-align: right;\" class=\"set-color-red\">-12.69</td>\n",
       "                        <td style=\"text-align: right;\">29,498.25</td>\n",
       "                    </tr>\n",
       "                \n",
       "                    <tr>\n",
       "                        <td>\n",
       "                            \n",
       "                                \n",
       "                                <a class=\"blacklink-u\" href=\"https://marketdata.set.or.th/mkt/sectorquotation.do?sector=SETTHSI&amp;language=th&amp;country=TH\" target=\"_blank\">SETTHSI</a>\n",
       "                            \n",
       "                        </td>\n",
       "                        \n",
       "                            \n",
       "                            \n",
       "                                \n",
       "                                \n",
       "                                \n",
       "                            \n",
       "                            \n",
       "                        \n",
       "                        <td style=\"text-align: right;\" class=\"set-color-red\"><i class=\"fa fa-caret-down\"></i>\n",
       "                            \n",
       "                                \n",
       "                                988.95\n",
       "                                \n",
       "                            \n",
       "                        </td>\n",
       "                        <td style=\"text-align: right;\" class=\"set-color-red\">-9.22</td>\n",
       "                        <td style=\"text-align: right;\">78,050.63</td>\n",
       "                    </tr>\n",
       "                \n",
       "                    <tr>\n",
       "                        <td>\n",
       "                            \n",
       "                                \n",
       "                                <a class=\"blacklink-u\" href=\"https://marketdata.set.or.th/mkt/sectorquotation.do?sector=SETWB&amp;language=th&amp;country=TH\" target=\"_blank\">SETWB</a>\n",
       "                            \n",
       "                        </td>\n",
       "                        \n",
       "                            \n",
       "                            \n",
       "                                \n",
       "                                \n",
       "                                \n",
       "                            \n",
       "                            \n",
       "                        \n",
       "                        <td style=\"text-align: right;\" class=\"set-color-red\"><i class=\"fa fa-caret-down\"></i>\n",
       "                            \n",
       "                                \n",
       "                                920.08\n",
       "                                \n",
       "                            \n",
       "                        </td>\n",
       "                        <td style=\"text-align: right;\" class=\"set-color-red\">-13.25</td>\n",
       "                        <td style=\"text-align: right;\">21,920.34</td>\n",
       "                    </tr>\n",
       "                \n",
       "                </tbody>\n",
       "            </table>"
      ],
      "text/plain": [
       "<IPython.core.display.HTML object>"
      ]
     },
     "execution_count": 4,
     "metadata": {},
     "output_type": "execute_result"
    }
   ],
   "source": [
    "s='''\n",
    "<table class=\"table table-hover table-set col-3-center table-set-border-yellow\">\n",
    "                <thead>\n",
    "                <tr>\n",
    "                    <th></th>\n",
    "                    <th><strong>ล่าสุด</strong></th>\n",
    "                    <th><strong>เปลี่ยนแปลง</strong></th>\n",
    "                    <th><strong>มูลค่า<br>(ลบ.)</strong></th>\n",
    "                </tr>\n",
    "                </thead>\n",
    "                <tbody>\n",
    "                \n",
    "                    <tr>\n",
    "                        <td>\n",
    "                            \n",
    "                                <a class=\"blacklink-u\" href=\"https://marketdata.set.or.th/mkt/marketsummary.do?language=th&amp;country=TH\" target=\"_blank\">SET</a>\n",
    "                                \n",
    "                            \n",
    "                        </td>\n",
    "                        \n",
    "                            \n",
    "                            \n",
    "                                \n",
    "                                \n",
    "                                \n",
    "                            \n",
    "                            \n",
    "                        \n",
    "                        <td style=\"text-align: right;\" class=\"set-color-red\"><i class=\"fa fa-caret-down\"></i>\n",
    "                            \n",
    "                                \n",
    "                                1,574.76\n",
    "                                \n",
    "                            \n",
    "                        </td>\n",
    "                        <td style=\"text-align: right;\" class=\"set-color-red\">-14.93</td>\n",
    "                        <td style=\"text-align: right;\">124,460.32</td>\n",
    "                    </tr>\n",
    "                \n",
    "                    <tr>\n",
    "                        <td>\n",
    "                            \n",
    "                                \n",
    "                                <a class=\"blacklink-u\" href=\"https://marketdata.set.or.th/mkt/sectorquotation.do?sector=SET50&amp;language=th&amp;country=TH\" target=\"_blank\">SET50</a>\n",
    "                            \n",
    "                        </td>\n",
    "                        \n",
    "                            \n",
    "                            \n",
    "                                \n",
    "                                \n",
    "                                \n",
    "                            \n",
    "                            \n",
    "                        \n",
    "                        <td style=\"text-align: right;\" class=\"set-color-red\"><i class=\"fa fa-caret-down\"></i>\n",
    "                            \n",
    "                                \n",
    "                                939.87\n",
    "                                \n",
    "                            \n",
    "                        </td>\n",
    "                        <td style=\"text-align: right;\" class=\"set-color-red\">-8.41</td>\n",
    "                        <td style=\"text-align: right;\">80,003.99</td>\n",
    "                    </tr>\n",
    "                \n",
    "                    <tr>\n",
    "                        <td>\n",
    "                            \n",
    "                                \n",
    "                                <a class=\"blacklink-u\" href=\"https://marketdata.set.or.th/mkt/sectorquotation.do?sector=SET100&amp;language=th&amp;country=TH\" target=\"_blank\">SET100</a>\n",
    "                            \n",
    "                        </td>\n",
    "                        \n",
    "                            \n",
    "                            \n",
    "                                \n",
    "                                \n",
    "                                \n",
    "                            \n",
    "                            \n",
    "                        \n",
    "                        <td style=\"text-align: right;\" class=\"set-color-red\"><i class=\"fa fa-caret-down\"></i>\n",
    "                            \n",
    "                                \n",
    "                                2,149.52\n",
    "                                \n",
    "                            \n",
    "                        </td>\n",
    "                        <td style=\"text-align: right;\" class=\"set-color-red\">-20.12</td>\n",
    "                        <td style=\"text-align: right;\">96,415.41</td>\n",
    "                    </tr>\n",
    "                \n",
    "                    <tr>\n",
    "                        <td>\n",
    "                            \n",
    "                                \n",
    "                                <a class=\"blacklink-u\" href=\"https://marketdata.set.or.th/mkt/sectorquotation.do?sector=sSET&amp;language=th&amp;country=TH\" target=\"_blank\">sSET</a>\n",
    "                            \n",
    "                        </td>\n",
    "                        \n",
    "                            \n",
    "                            \n",
    "                                \n",
    "                                \n",
    "                                \n",
    "                            \n",
    "                            \n",
    "                        \n",
    "                        <td style=\"text-align: right;\" class=\"set-color-red\"><i class=\"fa fa-caret-down\"></i>\n",
    "                            \n",
    "                                \n",
    "                                1,021.09\n",
    "                                \n",
    "                            \n",
    "                        </td>\n",
    "                        <td style=\"text-align: right;\" class=\"set-color-red\">-7.99</td>\n",
    "                        <td style=\"text-align: right;\">7,206.44</td>\n",
    "                    </tr>\n",
    "                \n",
    "                    <tr>\n",
    "                        <td>\n",
    "                            \n",
    "                                \n",
    "                                <a class=\"blacklink-u\" href=\"https://marketdata.set.or.th/mkt/sectorquotation.do?sector=SETCLMV&amp;language=th&amp;country=TH\" target=\"_blank\">SETCLMV</a>\n",
    "                            \n",
    "                        </td>\n",
    "                        \n",
    "                            \n",
    "                            \n",
    "                                \n",
    "                                \n",
    "                                \n",
    "                            \n",
    "                            \n",
    "                        \n",
    "                        <td style=\"text-align: right;\" class=\"set-color-red\"><i class=\"fa fa-caret-down\"></i>\n",
    "                            \n",
    "                                \n",
    "                                995.52\n",
    "                                \n",
    "                            \n",
    "                        </td>\n",
    "                        <td style=\"text-align: right;\" class=\"set-color-red\">-12.39</td>\n",
    "                        <td style=\"text-align: right;\">48,998.63</td>\n",
    "                    </tr>\n",
    "                \n",
    "                    <tr>\n",
    "                        <td>\n",
    "                            \n",
    "                                \n",
    "                                <a class=\"blacklink-u\" href=\"https://marketdata.set.or.th/mkt/sectorquotation.do?sector=SETHD&amp;language=th&amp;country=TH\" target=\"_blank\">SETHD</a>\n",
    "                            \n",
    "                        </td>\n",
    "                        \n",
    "                            \n",
    "                            \n",
    "                                \n",
    "                                \n",
    "                                \n",
    "                            \n",
    "                            \n",
    "                        \n",
    "                        <td style=\"text-align: right;\" class=\"set-color-red\"><i class=\"fa fa-caret-down\"></i>\n",
    "                            \n",
    "                                \n",
    "                                1,096.92\n",
    "                                \n",
    "                            \n",
    "                        </td>\n",
    "                        <td style=\"text-align: right;\" class=\"set-color-red\">-12.69</td>\n",
    "                        <td style=\"text-align: right;\">29,498.25</td>\n",
    "                    </tr>\n",
    "                \n",
    "                    <tr>\n",
    "                        <td>\n",
    "                            \n",
    "                                \n",
    "                                <a class=\"blacklink-u\" href=\"https://marketdata.set.or.th/mkt/sectorquotation.do?sector=SETTHSI&amp;language=th&amp;country=TH\" target=\"_blank\">SETTHSI</a>\n",
    "                            \n",
    "                        </td>\n",
    "                        \n",
    "                            \n",
    "                            \n",
    "                                \n",
    "                                \n",
    "                                \n",
    "                            \n",
    "                            \n",
    "                        \n",
    "                        <td style=\"text-align: right;\" class=\"set-color-red\"><i class=\"fa fa-caret-down\"></i>\n",
    "                            \n",
    "                                \n",
    "                                988.95\n",
    "                                \n",
    "                            \n",
    "                        </td>\n",
    "                        <td style=\"text-align: right;\" class=\"set-color-red\">-9.22</td>\n",
    "                        <td style=\"text-align: right;\">78,050.63</td>\n",
    "                    </tr>\n",
    "                \n",
    "                    <tr>\n",
    "                        <td>\n",
    "                            \n",
    "                                \n",
    "                                <a class=\"blacklink-u\" href=\"https://marketdata.set.or.th/mkt/sectorquotation.do?sector=SETWB&amp;language=th&amp;country=TH\" target=\"_blank\">SETWB</a>\n",
    "                            \n",
    "                        </td>\n",
    "                        \n",
    "                            \n",
    "                            \n",
    "                                \n",
    "                                \n",
    "                                \n",
    "                            \n",
    "                            \n",
    "                        \n",
    "                        <td style=\"text-align: right;\" class=\"set-color-red\"><i class=\"fa fa-caret-down\"></i>\n",
    "                            \n",
    "                                \n",
    "                                920.08\n",
    "                                \n",
    "                            \n",
    "                        </td>\n",
    "                        <td style=\"text-align: right;\" class=\"set-color-red\">-13.25</td>\n",
    "                        <td style=\"text-align: right;\">21,920.34</td>\n",
    "                    </tr>\n",
    "                \n",
    "                </tbody>\n",
    "            </table>'''\n",
    "            \n",
    "HTML(s)"
   ]
  },
  {
   "cell_type": "code",
   "execution_count": 9,
   "id": "a5bbe86a-9c58-46c2-a3d2-c9245b9af36b",
   "metadata": {},
   "outputs": [],
   "source": [
    "import pandas as pd \n",
    "%matplotlib inline\n",
    "%config InlineBaackend.figure_format = 'retina'"
   ]
  },
  {
   "cell_type": "markdown",
   "id": "0b35d088",
   "metadata": {},
   "source": [
    "# DATA SCIENCE CHEAT SHEET\n",
    "\n",
    "* [http://datacamp-community-prod.s3.amazonaws.com/ba1fe95a-8b70-4d2f-95b0-bc954e9071b0]()\n",
    "* [http://datacamp-community-prod.s3.amazonaws.com/f04456d7-8e61-482f-9cc9-da6f7f25fc9b]()"
   ]
  },
  {
   "cell_type": "markdown",
   "id": "b23e7cb2-b081-41d8-83de-02484e3797d4",
   "metadata": {},
   "source": [
    "# DATA SCIENCE\n",
    "* [NUMPY]()"
   ]
  },
  {
   "cell_type": "code",
   "execution_count": 1,
   "id": "18f29a97",
   "metadata": {},
   "outputs": [
    {
     "ename": "NameError",
     "evalue": "name 'IFrame' is not defined",
     "output_type": "error",
     "traceback": [
      "\u001b[0;31m---------------------------------------------------------------------------\u001b[0m",
      "\u001b[0;31mNameError\u001b[0m                                 Traceback (most recent call last)",
      "\u001b[0;32m/var/folders/3s/1k1g7tc54qqf5gz37jhy8j8w0000gn/T/ipykernel_1485/2995301375.py\u001b[0m in \u001b[0;36m<module>\u001b[0;34m\u001b[0m\n\u001b[0;32m----> 1\u001b[0;31m \u001b[0mIFrame\u001b[0m\u001b[0;34m(\u001b[0m\u001b[0;34m'http://datacamp-community-prod.s3.amazonaws.com/ba1fe95a-8b70-4d2f-95b0-bc954e9071b0'\u001b[0m\u001b[0;34m,\u001b[0m\u001b[0mwidth\u001b[0m\u001b[0;34m=\u001b[0m\u001b[0;36m800\u001b[0m\u001b[0;34m,\u001b[0m\u001b[0mheight\u001b[0m\u001b[0;34m=\u001b[0m\u001b[0;36m400\u001b[0m\u001b[0;34m)\u001b[0m\u001b[0;34m\u001b[0m\u001b[0;34m\u001b[0m\u001b[0m\n\u001b[0m",
      "\u001b[0;31mNameError\u001b[0m: name 'IFrame' is not defined"
     ]
    }
   ],
   "source": [
    "IFrame('http://datacamp-community-prod.s3.amazonaws.com/ba1fe95a-8b70-4d2f-95b0-bc954e9071b0',width=800,height=400)"
   ]
  },
  {
   "cell_type": "markdown",
   "id": "8ec61383-162b-4383-86b4-969d8aef248e",
   "metadata": {},
   "source": [
    "* [PANDAS]()"
   ]
  },
  {
   "cell_type": "code",
   "execution_count": 6,
   "id": "be1aa4ad-29fc-4e91-9c62-23cf7445e842",
   "metadata": {},
   "outputs": [
    {
     "data": {
      "text/html": [
       "\n",
       "        <iframe\n",
       "            width=\"800\"\n",
       "            height=\"400\"\n",
       "            src=\"http://datacamp-community-prod.s3.amazonaws.com/f04456d7-8e61-482f-9cc9-da6f7f25fc9b\"\n",
       "            frameborder=\"0\"\n",
       "            allowfullscreen\n",
       "            \n",
       "        ></iframe>\n",
       "        "
      ],
      "text/plain": [
       "<IPython.lib.display.IFrame at 0x10d4936d0>"
      ]
     },
     "execution_count": 6,
     "metadata": {},
     "output_type": "execute_result"
    }
   ],
   "source": [
    "IFrame(\"http://datacamp-community-prod.s3.amazonaws.com/f04456d7-8e61-482f-9cc9-da6f7f25fc9b\",width=800,height=400)"
   ]
  },
  {
   "cell_type": "code",
   "execution_count": null,
   "id": "dcb65bc4",
   "metadata": {},
   "outputs": [],
   "source": []
  },
  {
   "cell_type": "markdown",
   "id": "d666298f-527d-4f29-8c63-c9370ac48578",
   "metadata": {},
   "source": [
    "## <span style=color:olive>import data</span> "
   ]
  },
  {
   "cell_type": "code",
   "execution_count": 20,
   "id": "3d31a015-8df0-4f51-a8b0-9b5a7b96aee2",
   "metadata": {},
   "outputs": [
    {
     "data": {
      "text/html": [
       "\n",
       "        <iframe\n",
       "            width=\"800\"\n",
       "            height=\"400\"\n",
       "            src=\"http://datacamp-community-prod.s3.amazonaws.com/72e88aa1-b4f2-4658-9d86-15becf8263df\"\n",
       "            frameborder=\"0\"\n",
       "            allowfullscreen\n",
       "            \n",
       "        ></iframe>\n",
       "        "
      ],
      "text/plain": [
       "<IPython.lib.display.IFrame at 0x10cbb73d0>"
      ]
     },
     "execution_count": 20,
     "metadata": {},
     "output_type": "execute_result"
    }
   ],
   "source": [
    "IFrame(\"http://datacamp-community-prod.s3.amazonaws.com/72e88aa1-b4f2-4658-9d86-15becf8263df\",width=800,height=400)"
   ]
  },
  {
   "cell_type": "markdown",
   "id": "b322b78d-4477-49df-baab-8275d02ce92a",
   "metadata": {},
   "source": [
    "### <span style=color:tomato> stylecheat sheet jupyter notebook</span>"
   ]
  },
  {
   "cell_type": "code",
   "execution_count": 21,
   "id": "440b6071-e011-44d0-8c6a-261dba84c168",
   "metadata": {},
   "outputs": [
    {
     "data": {
      "text/html": [
       "\n",
       "        <iframe\n",
       "            width=\"800\"\n",
       "            height=\"600\"\n",
       "            src=\"http://datacamp-community-prod.s3.amazonaws.com/21fdc814-3f08-4aa9-90fa-247eedefd655\"\n",
       "            frameborder=\"0\"\n",
       "            allowfullscreen\n",
       "            \n",
       "        ></iframe>\n",
       "        "
      ],
      "text/plain": [
       "<IPython.lib.display.IFrame at 0x10cbb7fd0>"
      ]
     },
     "execution_count": 21,
     "metadata": {},
     "output_type": "execute_result"
    }
   ],
   "source": [
    "IFrame(\"http://datacamp-community-prod.s3.amazonaws.com/21fdc814-3f08-4aa9-90fa-247eedefd655\",width=800,height=600)"
   ]
  },
  {
   "cell_type": "markdown",
   "id": "01323919-1543-4648-9540-8144cc742f4e",
   "metadata": {},
   "source": [
    "## <spaon style=color:lightorange>matplotlib</span>"
   ]
  },
  {
   "cell_type": "code",
   "execution_count": 22,
   "id": "b9f9b15d-031a-4b7f-bfa9-5f831c8be099",
   "metadata": {},
   "outputs": [
    {
     "data": {
      "text/html": [
       "\n",
       "        <iframe\n",
       "            width=\"800\"\n",
       "            height=\"400\"\n",
       "            src=\"http://datacamp-community-prod.s3.amazonaws.com/e1a8f39d-71ad-4d13-9a6b-618fe1b8c9e9\"\n",
       "            frameborder=\"0\"\n",
       "            allowfullscreen\n",
       "            \n",
       "        ></iframe>\n",
       "        "
      ],
      "text/plain": [
       "<IPython.lib.display.IFrame at 0x10cbb6650>"
      ]
     },
     "execution_count": 22,
     "metadata": {},
     "output_type": "execute_result"
    }
   ],
   "source": [
    "IFrame(\"http://datacamp-community-prod.s3.amazonaws.com/e1a8f39d-71ad-4d13-9a6b-618fe1b8c9e9\",width=800,height=400)"
   ]
  },
  {
   "cell_type": "markdown",
   "id": "5b047a58-e32e-4e6d-b30a-26b49cbf6ff3",
   "metadata": {},
   "source": [
    "# Statistics Data Visualization"
   ]
  },
  {
   "cell_type": "code",
   "execution_count": 23,
   "id": "910962dc-75d0-4b31-ab7f-f99487658ee1",
   "metadata": {},
   "outputs": [
    {
     "data": {
      "text/html": [
       "\n",
       "        <iframe\n",
       "            width=\"800\"\n",
       "            height=\"400\"\n",
       "            src=\"http://datacamp-community-prod.s3.amazonaws.com/263130e2-2c92-4348-a356-9ed9b5034247\"\n",
       "            frameborder=\"0\"\n",
       "            allowfullscreen\n",
       "            \n",
       "        ></iframe>\n",
       "        "
      ],
      "text/plain": [
       "<IPython.lib.display.IFrame at 0x10cbb7d00>"
      ]
     },
     "execution_count": 23,
     "metadata": {},
     "output_type": "execute_result"
    }
   ],
   "source": [
    "IFrame(\"http://datacamp-community-prod.s3.amazonaws.com/263130e2-2c92-4348-a356-9ed9b5034247\",width=800,height=400)"
   ]
  }
 ],
 "metadata": {
  "kernelspec": {
   "display_name": "Python 3 (ipykernel)",
   "language": "python",
   "name": "python3"
  },
  "language_info": {
   "codemirror_mode": {
    "name": "ipython",
    "version": 3
   },
   "file_extension": ".py",
   "mimetype": "text/x-python",
   "name": "python",
   "nbconvert_exporter": "python",
   "pygments_lexer": "ipython3",
   "version": "3.10.0"
  }
 },
 "nbformat": 4,
 "nbformat_minor": 5
}
